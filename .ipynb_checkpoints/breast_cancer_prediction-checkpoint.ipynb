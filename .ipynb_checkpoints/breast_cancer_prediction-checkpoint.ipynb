{
 "cells": [
  {
   "cell_type": "code",
   "execution_count": null,
   "metadata": {},
   "outputs": [],
   "source": [
    "#importing libraries\n",
    "import pandas as pd\n",
    "import numpy as np\n",
    "import matplotlib.pylab as plt\n",
    "\n",
    "from sklearn import model_selection\n",
    "from sklearn.model_selection import train_test_split, KFold, cross_val_score, StratifiedKFold, learning_curve, GridSearchCV\n",
    "from sklearn.metrics import confusion_matrix, make_scorer, accuracy_score\n",
    "from sklearn.linear_model import LogisticRegression\n",
    "from sklearn.tree import DecisionTreeClassifier, DecisionTreeRegressor\n",
    "from sklearn.neighbors import KNeighborsClassifier\n",
    "from sklearn.discriminant_analysis import LinearDiscriminantAnalysis\n",
    "from sklearn.preprocessing import MinMaxScaler\n",
    "from sklearn.pipeline import Pipeline\n",
    "from keras import models\n",
    "model = models.Sequential()\n",
    "\n",
    "import keras\n",
    "from keras.models import Sequential\n",
    "from keras.layers import Dense, Dropout, Flatten\n",
    "from keras.layers import Conv2D, MaxPooling2D\n",
    "from keras.utils import to_categorical\n",
    "from keras.preprocessing import image\n",
    "\n",
    "from sklearn.svm import SVC\n",
    "from sklearn.ensemble import RandomForestClassifier\n",
    "from keras.utils import to_categorical\n",
    "from scikeras.wrappers import KerasClassifier, KerasRegressor"
   ]
  },
  {
   "cell_type": "code",
   "execution_count": null,
   "metadata": {},
   "outputs": [],
   "source": [
    "#loading images and their labels\n",
    "X = np.load('X.npy') # images\n",
    "Y = np.load('Y.npy') # labels for the images (0 = no IDC, 1 = IDC)"
   ]
  },
  {
   "cell_type": "code",
   "execution_count": null,
   "metadata": {},
   "outputs": [],
   "source": [
    "#making sure the data for X crossed over correctly\n",
    "print(X[:3])"
   ]
  },
  {
   "cell_type": "code",
   "execution_count": null,
   "metadata": {},
   "outputs": [],
   "source": [
    "#making sure the data for Y crosssed over correctly\n",
    "print(Y[:5])"
   ]
  },
  {
   "cell_type": "code",
   "execution_count": null,
   "metadata": {},
   "outputs": [],
   "source": [
    "#total number of images \n",
    "print('Total number of images: {}'.format(len(X)))"
   ]
  },
  {
   "cell_type": "code",
   "execution_count": null,
   "metadata": {},
   "outputs": [],
   "source": [
    "#total number of negative IDC images\n",
    "print('Number of negative IDC Images: {}'.format(np.sum(Y==0)))"
   ]
  },
  {
   "cell_type": "code",
   "execution_count": null,
   "metadata": {},
   "outputs": [],
   "source": [
    "#total number of positive IDC images\n",
    "print('Number of positive IDC Images: {}'.format(np.sum(Y==1)))"
   ]
  },
  {
   "cell_type": "code",
   "execution_count": null,
   "metadata": {},
   "outputs": [],
   "source": [
    "#shape of the images\n",
    "print('Image shape (Width, Height, Channels): {}'.format(X[0].shape))"
   ]
  },
  {
   "cell_type": "code",
   "execution_count": null,
   "metadata": {},
   "outputs": [],
   "source": [
    "#train/test split\n",
    "x_train, x_test, y_train, y_test = train_test_split(X, Y, test_size=0.2)"
   ]
  },
  {
   "cell_type": "code",
   "execution_count": null,
   "metadata": {},
   "outputs": [],
   "source": [
    "# Reduce Sample Size\n",
    "x_train = x_train[0:30000] \n",
    "y_train = y_train[0:30000]\n",
    "x_test = x_test[0:30000] \n",
    "y_test = y_test[0:30000]"
   ]
  },
  {
   "cell_type": "code",
   "execution_count": null,
   "metadata": {},
   "outputs": [],
   "source": [
    "# rescale pizel intensity\n",
    "x_train = x_train / 256.0\n",
    "x_test = x_test / 256.0"
   ]
  },
  {
   "cell_type": "code",
   "execution_count": null,
   "metadata": {},
   "outputs": [],
   "source": [
    "#verifying shape\n",
    "print(\"Training Data Shape:\", x_train.shape)\n",
    "print(\"Testing Data Shape:\", x_test.shape)"
   ]
  },
  {
   "cell_type": "code",
   "execution_count": null,
   "metadata": {},
   "outputs": [],
   "source": [
    "#displaying the first five images in the training set along with the labels\n",
    "for i in range(5):\n",
    "    plt.imshow(x_train[i], cmap='gray'), plt.axis(\"off\")\n",
    "    plt.title('IDC = %d'%y_train[i])\n",
    "    plt.show()"
   ]
  },
  {
   "cell_type": "code",
   "execution_count": null,
   "metadata": {},
   "outputs": [],
   "source": [
    "#printing the data to show that it's now 0-1\n",
    "print(x_train[:3])"
   ]
  },
  {
   "cell_type": "code",
   "execution_count": null,
   "metadata": {},
   "outputs": [],
   "source": [
    "# reshape data\n",
    "\n",
    "x_train_r = x_train.reshape(x_train.shape[0], x_train.shape[1]*x_train.shape[2]*x_train.shape[3])\n",
    "x_test_r = x_test.reshape(x_test.shape[0], x_test.shape[1]*x_test.shape[2]*x_test.shape[3])\n",
    "\n",
    "print(\"x_train shape: \",x_train_r.shape)\n",
    "print(\"x_test shape: \",x_test_r.shape)"
   ]
  },
  {
   "cell_type": "code",
   "execution_count": null,
   "metadata": {},
   "outputs": [],
   "source": [
    "def buildclassifier():\n",
    "    classifier = Sequential() # initialize neural network\n",
    "    classifier.add(Dense(units = 8, kernel_initializer = 'uniform', activation = 'relu', input_dim = x_train_r.shape[1]))\n",
    "    classifier.add(Dense(units = 8, kernel_initializer = 'uniform', activation = 'relu'))\n",
    "    classifier.add(Dense(units = 1, kernel_initializer = 'uniform', activation = 'sigmoid'))\n",
    "    classifier.compile(optimizer = 'adam', loss = 'binary_crossentropy', metrics = ['accuracy'])\n",
    "    return classifier"
   ]
  },
  {
   "cell_type": "code",
   "execution_count": null,
   "metadata": {},
   "outputs": [],
   "source": [
    "classifier = KerasClassifier(build_fn = buildclassifier, epochs = 200)\n",
    "accuracies = cross_val_score(estimator = classifier, X = x_train_r, y = y_train, cv = 6)\n",
    "mean = accuracies.mean()\n",
    "variance = accuracies.std()"
   ]
  },
  {
   "cell_type": "code",
   "execution_count": null,
   "metadata": {},
   "outputs": [],
   "source": [
    "print(\"Accuracy mean: \"+ str(mean))\n",
    "print(\"Accuracy variance: \"+ str(variance))"
   ]
  },
  {
   "cell_type": "code",
   "execution_count": null,
   "metadata": {},
   "outputs": [],
   "source": [
    "minmax = MinMaxScaler()"
   ]
  },
  {
   "cell_type": "code",
   "execution_count": null,
   "metadata": {},
   "outputs": [],
   "source": [
    "dtc = DecisionTreeClassifier()\n",
    "rfc= RandomForestClassifier(n_estimators = 100, random_state=42)\n",
    "svc = SVC(random_state=42)\n",
    "lr = LogisticRegression()\n",
    "knn = KNeighborsClassifier()\n",
    "dtr = DecisionTreeRegressor()"
   ]
  },
  {
   "cell_type": "code",
   "execution_count": null,
   "metadata": {},
   "outputs": [],
   "source": [
    "pipe = Pipeline(steps = [('scaler', minmax), ('classifier', dtr)])"
   ]
  },
  {
   "cell_type": "code",
   "execution_count": null,
   "metadata": {},
   "outputs": [],
   "source": [
    "pipe.fit(x_train_r, y_train)"
   ]
  },
  {
   "cell_type": "code",
   "execution_count": null,
   "metadata": {},
   "outputs": [],
   "source": [
    "param_grid = [{'classifier__max_depth': [2,6,8,10], \n",
    "              'classifier__min_samples_split': [2,5,10,15]}, \n",
    "              {'classifier':[dtc], \n",
    "               'classifier__max_depth': [2,6,8,10], \n",
    "              'classifier__min_samples_split': [2,5,10,15], \n",
    "              'classifier__max_leaf_nodes': [None,10,20,50,100]}, \n",
    "              {'classifier':[rfc], \n",
    "              'classifier__max_depth': [2,6,8,10], \n",
    "              'classifier__min_samples_split': [2,5,10,15], \n",
    "              'classifier__max_features': [2,3,4,5,6]}, \n",
    "              {'classifier':[svc], \n",
    "              'classifier__max_depth': [2,6,8,10], \n",
    "              'classifier__min_samples_split': [2,5,10,15], \n",
    "              'classifier__max_features': [2,3,4,5,6]}, \n",
    "               {'classifier':[lr], \n",
    "              'classifier__max_depth': [2,6,8,10], \n",
    "              'classifier__min_samples_split': [2,5,10,15], \n",
    "              'classifier__max_features': [2,3,4,5,6]}, \n",
    "               {'classifier':[knn], \n",
    "              'classifier__max_depth': [2,6,8,10], \n",
    "              'classifier__min_samples_split': [2,5,10,15], \n",
    "              'classifier__max_features': [2,3,4,5,6]}, \n",
    "              {'classifier':[dtr], \n",
    "              'classifier__max_depth': [2,6,8,10], \n",
    "              'classifier__min_samples_split': [2,5,10,15], \n",
    "              'classifier__max_features': [2,3,4,5,6]},\n",
    "             ]"
   ]
  },
  {
   "cell_type": "code",
   "execution_count": null,
   "metadata": {},
   "outputs": [],
   "source": [
    "grid_search = GridSearchCV(pipe, param_grid, cv = 5, verbose = 0)"
   ]
  },
  {
   "cell_type": "code",
   "execution_count": null,
   "metadata": {},
   "outputs": [],
   "source": [
    "best_model = grid_search.fit(x_train_r, y_train)"
   ]
  },
  {
   "cell_type": "code",
   "execution_count": null,
   "metadata": {},
   "outputs": [],
   "source": []
  },
  {
   "cell_type": "code",
   "execution_count": null,
   "metadata": {},
   "outputs": [],
   "source": []
  },
  {
   "cell_type": "code",
   "execution_count": null,
   "metadata": {},
   "outputs": [],
   "source": []
  },
  {
   "cell_type": "code",
   "execution_count": null,
   "metadata": {},
   "outputs": [],
   "source": []
  },
  {
   "cell_type": "code",
   "execution_count": null,
   "metadata": {},
   "outputs": [],
   "source": []
  },
  {
   "cell_type": "code",
   "execution_count": null,
   "metadata": {},
   "outputs": [],
   "source": []
  },
  {
   "cell_type": "code",
   "execution_count": null,
   "metadata": {},
   "outputs": [],
   "source": [
    "#classifiying decision tree and fitting it\n",
    "dtc = DecisionTreeClassifier()\n",
    "dtc.fit(x_train_r,y_train)"
   ]
  },
  {
   "cell_type": "code",
   "execution_count": null,
   "metadata": {},
   "outputs": [],
   "source": [
    "#running the accuracy of the decision tree\n",
    "dscore = dtc.score(x_test_r,y_test)\n",
    "print(\"Decision Tree Score: \", dscore)"
   ]
  },
  {
   "cell_type": "code",
   "execution_count": null,
   "metadata": {},
   "outputs": [],
   "source": [
    "#classifying random forest tree and fitting it\n",
    "rfc= RandomForestClassifier(n_estimators = 100, random_state=42)\n",
    "rfc.fit(x_train_r,y_train) "
   ]
  },
  {
   "cell_type": "code",
   "execution_count": null,
   "metadata": {},
   "outputs": [],
   "source": [
    "#accuracy of random forest\n",
    "rscore=rfc.score(x_test_r,y_test)\n",
    "print(\"Random Forest Score: \", rscore)"
   ]
  },
  {
   "cell_type": "code",
   "execution_count": null,
   "metadata": {},
   "outputs": [],
   "source": [
    "#SVC classiying and fitting\n",
    "svc = SVC(random_state=42)\n",
    "svc.fit(x_train_r,y_train)"
   ]
  },
  {
   "cell_type": "code",
   "execution_count": null,
   "metadata": {},
   "outputs": [],
   "source": [
    "#accuracy of SVC\n",
    "sscore = svc.score(x_test_r,y_test)\n",
    "print (\"SVM Accuracy:\", sscore)"
   ]
  },
  {
   "cell_type": "code",
   "execution_count": null,
   "metadata": {},
   "outputs": [],
   "source": [
    "#logistic regression classifying and fittnig\n",
    "lr = LogisticRegression()\n",
    "lr.fit(x_train_r,y_train)"
   ]
  },
  {
   "cell_type": "code",
   "execution_count": null,
   "metadata": {},
   "outputs": [],
   "source": [
    "#logisitic regression accuracy\n",
    "lscore = lr.score(x_test_r,y_test)\n",
    "print(\"logistic Regression accuracy\", lscore)"
   ]
  },
  {
   "cell_type": "code",
   "execution_count": null,
   "metadata": {},
   "outputs": [],
   "source": [
    "#logistic regression classifying and fittnig\n",
    "knn = KNeighborsClassifier()\n",
    "knn.fit(x_train_r,y_train)"
   ]
  },
  {
   "cell_type": "code",
   "execution_count": null,
   "metadata": {},
   "outputs": [],
   "source": [
    "#logisitic regression accuracy\n",
    "kscore = knn.score(x_test_r,y_test)\n",
    "print(\"KNeighbors accuracy\", kscore)"
   ]
  },
  {
   "cell_type": "code",
   "execution_count": null,
   "metadata": {},
   "outputs": [],
   "source": []
  },
  {
   "cell_type": "code",
   "execution_count": null,
   "metadata": {},
   "outputs": [],
   "source": [
    "results = []\n",
    "results.append(mean)\n",
    "results.append(dscore)\n",
    "results.append(rscore)\n",
    "results.append(sscore)\n",
    "results.append(lscore)\n",
    "results.append(kscore)\n",
    "print(results)"
   ]
  },
  {
   "cell_type": "code",
   "execution_count": null,
   "metadata": {},
   "outputs": [],
   "source": [
    "models = []\n",
    "models.append(('classifier', KerasClassifier()))\n",
    "models.append(('dtc', DecisionTreeClassifier()))\n",
    "models.append(('rfc', RandomForestClassifier()))\n",
    "models.append(('svc', SVC()))\n",
    "models.append(('ls', LogisticRegression()))\n",
    "models.append(('knn', KNeighborsClassifier()))\n",
    "print(models)"
   ]
  },
  {
   "cell_type": "code",
   "execution_count": null,
   "metadata": {},
   "outputs": [],
   "source": []
  },
  {
   "cell_type": "code",
   "execution_count": null,
   "metadata": {},
   "outputs": [],
   "source": []
  }
 ],
 "metadata": {
  "kernelspec": {
   "display_name": "Python 3 (ipykernel)",
   "language": "python",
   "name": "python3"
  },
  "language_info": {
   "codemirror_mode": {
    "name": "ipython",
    "version": 3
   },
   "file_extension": ".py",
   "mimetype": "text/x-python",
   "name": "python",
   "nbconvert_exporter": "python",
   "pygments_lexer": "ipython3",
   "version": "3.9.5"
  }
 },
 "nbformat": 4,
 "nbformat_minor": 2
}
