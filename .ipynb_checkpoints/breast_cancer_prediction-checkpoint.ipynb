{
 "cells": [
  {
   "cell_type": "code",
   "execution_count": 110,
   "metadata": {},
   "outputs": [
    {
     "ename": "ModuleNotFoundError",
     "evalue": "No module named 'scikeras'",
     "output_type": "error",
     "traceback": [
      "\u001b[1;31m-------------------------------------------------------\u001b[0m",
      "\u001b[1;31mModuleNotFoundError\u001b[0m   Traceback (most recent call last)",
      "Cell \u001b[1;32mIn[110], line 25\u001b[0m\n\u001b[0;32m     21\u001b[0m \u001b[38;5;28;01mfrom\u001b[39;00m \u001b[38;5;21;01mkeras\u001b[39;00m\u001b[38;5;21;01m.\u001b[39;00m\u001b[38;5;21;01mpreprocessing\u001b[39;00m \u001b[38;5;28;01mimport\u001b[39;00m image\n\u001b[0;32m     24\u001b[0m \u001b[38;5;28;01mfrom\u001b[39;00m \u001b[38;5;21;01mkeras\u001b[39;00m\u001b[38;5;21;01m.\u001b[39;00m\u001b[38;5;21;01mutils\u001b[39;00m \u001b[38;5;28;01mimport\u001b[39;00m to_categorical\n\u001b[1;32m---> 25\u001b[0m \u001b[38;5;28;01mfrom\u001b[39;00m \u001b[38;5;21;01mscikeras\u001b[39;00m\u001b[38;5;21;01m.\u001b[39;00m\u001b[38;5;21;01mwrappers\u001b[39;00m \u001b[38;5;28;01mimport\u001b[39;00m KerasClassifier, KerasRegressor\n",
      "\u001b[1;31mModuleNotFoundError\u001b[0m: No module named 'scikeras'"
     ]
    }
   ],
   "source": [
    "#importing libraries\n",
    "import pandas as pd\n",
    "import numpy as np\n",
    "import matplotlib.pylab as plt\n",
    "\n",
    "\n",
    "from sklearn.model_selection import train_test_split, KFold, cross_val_score, StratifiedKFold, learning_curve, GridSearchCV\n",
    "from sklearn.metrics import confusion_matrix, make_scorer, accuracy_score\n",
    "from sklearn.linear_model import LogisticRegression\n",
    "from sklearn.tree import DecisionTreeClassifier\n",
    "from sklearn.neighbors import KNeighborsClassifier\n",
    "from sklearn.discriminant_analysis import LinearDiscriminantAnalysis\n",
    "from keras import models\n",
    "model = models.Sequential()\n",
    "\n",
    "import keras\n",
    "from keras.models import Sequential\n",
    "from keras.layers import Dense, Dropout, Flatten\n",
    "from keras.layers import Conv2D, MaxPooling2D\n",
    "from keras.utils import to_categorical\n",
    "from keras.preprocessing import image\n",
    "\n",
    "\n",
    "from keras.utils import to_categorical\n",
    "from scikeras.wrappers import KerasClassifier, KerasRegressor"
   ]
  },
  {
   "cell_type": "code",
   "execution_count": 76,
   "metadata": {},
   "outputs": [],
   "source": [
    "#loading images and their labels\n",
    "X = np.load('X.npy') # images\n",
    "Y = np.load('Y.npy') # labels for the images (0 = no IDC, 1 = IDC)"
   ]
  },
  {
   "cell_type": "code",
   "execution_count": 77,
   "metadata": {},
   "outputs": [
    {
     "name": "stdout",
     "output_type": "stream",
     "text": [
      "[[[[226 164 206]\n",
      "   [224 154 196]\n",
      "   [225 175 211]\n",
      "   ...\n",
      "   [240 221 237]\n",
      "   [232 184 214]\n",
      "   [243 213 235]]\n",
      "\n",
      "  [[217 142 188]\n",
      "   [221 130 179]\n",
      "   [224 150 196]\n",
      "   ...\n",
      "   [227 170 204]\n",
      "   [229 180 215]\n",
      "   [236 212 232]]\n",
      "\n",
      "  [[237 178 212]\n",
      "   [229 157 199]\n",
      "   [218 125 175]\n",
      "   ...\n",
      "   [221 184 217]\n",
      "   [190 153 193]\n",
      "   [227 164 208]]\n",
      "\n",
      "  ...\n",
      "\n",
      "  [[217 145 192]\n",
      "   [214 129 184]\n",
      "   [212 129 183]\n",
      "   ...\n",
      "   [194 122 185]\n",
      "   [204 143 193]\n",
      "   [189 129 188]]\n",
      "\n",
      "  [[218 144 192]\n",
      "   [213 128 185]\n",
      "   [208 121 171]\n",
      "   ...\n",
      "   [136  79 145]\n",
      "   [184 111 174]\n",
      "   [188 112 176]]\n",
      "\n",
      "  [[212 125 181]\n",
      "   [211 136 181]\n",
      "   [220 162 206]\n",
      "   ...\n",
      "   [127  90 152]\n",
      "   [213 167 202]\n",
      "   [215 180 211]]]\n",
      "\n",
      "\n",
      " [[[219 150 197]\n",
      "   [217 158 201]\n",
      "   [228 173 205]\n",
      "   ...\n",
      "   [198 165 199]\n",
      "   [230 204 224]\n",
      "   [231 193 221]]\n",
      "\n",
      "  [[223 150 195]\n",
      "   [222 140 192]\n",
      "   [213 133 186]\n",
      "   ...\n",
      "   [218 143 193]\n",
      "   [218 148 197]\n",
      "   [215 131 185]]\n",
      "\n",
      "  [[203 125 176]\n",
      "   [218 143 192]\n",
      "   [227 163 199]\n",
      "   ...\n",
      "   [210 137 188]\n",
      "   [203 121 177]\n",
      "   [192 124 183]]\n",
      "\n",
      "  ...\n",
      "\n",
      "  [[247 234 242]\n",
      "   [247 249 248]\n",
      "   [248 247 247]\n",
      "   ...\n",
      "   [245 240 242]\n",
      "   [249 244 247]\n",
      "   [243 234 239]]\n",
      "\n",
      "  [[249 243 246]\n",
      "   [243 240 247]\n",
      "   [248 241 246]\n",
      "   ...\n",
      "   [247 247 251]\n",
      "   [247 244 246]\n",
      "   [249 246 251]]\n",
      "\n",
      "  [[230 204 226]\n",
      "   [246 247 244]\n",
      "   [250 245 249]\n",
      "   ...\n",
      "   [249 243 250]\n",
      "   [251 248 248]\n",
      "   [248 247 247]]]\n",
      "\n",
      "\n",
      " [[[248 245 249]\n",
      "   [248 246 248]\n",
      "   [249 246 253]\n",
      "   ...\n",
      "   [249 249 248]\n",
      "   [247 246 249]\n",
      "   [248 244 248]]\n",
      "\n",
      "  [[248 246 246]\n",
      "   [248 245 247]\n",
      "   [250 248 248]\n",
      "   ...\n",
      "   [249 243 246]\n",
      "   [252 244 247]\n",
      "   [249 250 247]]\n",
      "\n",
      "  [[241 231 238]\n",
      "   [239 225 240]\n",
      "   [243 237 242]\n",
      "   ...\n",
      "   [248 244 251]\n",
      "   [245 248 249]\n",
      "   [249 242 251]]\n",
      "\n",
      "  ...\n",
      "\n",
      "  [[248 247 249]\n",
      "   [248 247 249]\n",
      "   [248 247 249]\n",
      "   ...\n",
      "   [245 242 245]\n",
      "   [241 227 238]\n",
      "   [216 159 203]]\n",
      "\n",
      "  [[248 247 249]\n",
      "   [248 247 249]\n",
      "   [249 247 249]\n",
      "   ...\n",
      "   [249 242 249]\n",
      "   [229 193 222]\n",
      "   [161 111 171]]\n",
      "\n",
      "  [[249 247 249]\n",
      "   [249 247 249]\n",
      "   [249 247 249]\n",
      "   ...\n",
      "   [247 248 247]\n",
      "   [235 210 230]\n",
      "   [186 120 177]]]]\n"
     ]
    }
   ],
   "source": [
    "#making sure the data for X crossed over correctly\n",
    "print(X[:3])"
   ]
  },
  {
   "cell_type": "code",
   "execution_count": 78,
   "metadata": {},
   "outputs": [
    {
     "name": "stdout",
     "output_type": "stream",
     "text": [
      "[0 0 0 0 0]\n"
     ]
    }
   ],
   "source": [
    "#making sure the data for Y crosssed over correctly\n",
    "print(Y[:5])"
   ]
  },
  {
   "cell_type": "code",
   "execution_count": 79,
   "metadata": {},
   "outputs": [
    {
     "name": "stdout",
     "output_type": "stream",
     "text": [
      "Total number of images: 5547\n"
     ]
    }
   ],
   "source": [
    "#total number of images \n",
    "print('Total number of images: {}'.format(len(X)))"
   ]
  },
  {
   "cell_type": "code",
   "execution_count": 80,
   "metadata": {},
   "outputs": [
    {
     "name": "stdout",
     "output_type": "stream",
     "text": [
      "Number of negative IDC Images: 2759\n"
     ]
    }
   ],
   "source": [
    "#total number of negative IDC images\n",
    "print('Number of negative IDC Images: {}'.format(np.sum(Y==0)))"
   ]
  },
  {
   "cell_type": "code",
   "execution_count": 81,
   "metadata": {},
   "outputs": [
    {
     "name": "stdout",
     "output_type": "stream",
     "text": [
      "Number of positive IDC Images: 2788\n"
     ]
    }
   ],
   "source": [
    "#total number of positive IDC images\n",
    "print('Number of positive IDC Images: {}'.format(np.sum(Y==1)))"
   ]
  },
  {
   "cell_type": "code",
   "execution_count": 82,
   "metadata": {},
   "outputs": [
    {
     "name": "stdout",
     "output_type": "stream",
     "text": [
      "Image shape (Width, Height, Channels): (50, 50, 3)\n"
     ]
    }
   ],
   "source": [
    "#shape of the images\n",
    "print('Image shape (Width, Height, Channels): {}'.format(X[0].shape))"
   ]
  },
  {
   "cell_type": "code",
   "execution_count": 94,
   "metadata": {},
   "outputs": [],
   "source": [
    "#train/test split\n",
    "x_train, x_test, y_train, y_test = train_test_split(X, Y, test_size=0.2)\n"
   ]
  },
  {
   "cell_type": "code",
   "execution_count": 95,
   "metadata": {},
   "outputs": [],
   "source": [
    "# Reduce Sample Size\n",
    "x_train = x_train[0:30000] \n",
    "y_train = y_train[0:30000]\n",
    "x_test = x_test[0:30000] \n",
    "y_test = y_test[0:30000]"
   ]
  },
  {
   "cell_type": "code",
   "execution_count": 96,
   "metadata": {},
   "outputs": [],
   "source": [
    "# rescaling images\n",
    "x_train = x_train / 256.0\n",
    "x_test = x_test / 256.0"
   ]
  },
  {
   "cell_type": "code",
   "execution_count": 97,
   "metadata": {},
   "outputs": [
    {
     "name": "stdout",
     "output_type": "stream",
     "text": [
      "Training Data Shape: (4437, 50, 50, 3)\n",
      "Testing Data Shape: (1110, 50, 50, 3)\n"
     ]
    }
   ],
   "source": [
    "#verifying shape\n",
    "print(\"Training Data Shape:\", x_train.shape)\n",
    "print(\"Testing Data Shape:\", x_test.shape)"
   ]
  },
  {
   "cell_type": "code",
   "execution_count": 98,
   "metadata": {},
   "outputs": [
    {
     "data": {
      "image/png": "[encoded data removed]",
      "text/plain": [
       "<Figure size 640x480 with 1 Axes>"
      ]
     },
     "metadata": {},
     "output_type": "display_data"
    },
    {
     "data": {
      "image/png": "[encoded data removed]",
      "text/plain": [
       "<Figure size 640x480 with 1 Axes>"
      ]
     },
     "metadata": {},
     "output_type": "display_data"
    },
    {
     "data": {
      "image/png": "[encoded data removed]",
      "text/plain": [
       "<Figure size 640x480 with 1 Axes>"
      ]
     },
     "metadata": {},
     "output_type": "display_data"
    },
    {
     "data": {
      "image/png": "[encoded data removed]",
      "text/plain": [
       "<Figure size 640x480 with 1 Axes>"
      ]
     },
     "metadata": {},
     "output_type": "display_data"
    },
    {
     "data": {
      "image/png": "[encoded data removed]",
      "text/plain": [
       "<Figure size 640x480 with 1 Axes>"
      ]
     },
     "metadata": {},
     "output_type": "display_data"
    }
   ],
   "source": [
    "#displaying the first five images in the training set along with the labels\n",
    "for i in range(5):\n",
    "    plt.imshow(x_train[i], cmap='gray'), plt.axis(\"off\")\n",
    "    plt.title('IDC = %d'%y_train[i])\n",
    "    plt.show()"
   ]
  },
  {
   "cell_type": "code",
   "execution_count": 99,
   "metadata": {},
   "outputs": [
    {
     "name": "stdout",
     "output_type": "stream",
     "text": [
      "[[[[0.9296875  0.9375     0.9296875 ]\n",
      "   [0.953125   0.921875   0.94921875]\n",
      "   [0.953125   0.92578125 0.9296875 ]\n",
      "   ...\n",
      "   [0.91015625 0.83203125 0.8828125 ]\n",
      "   [0.87890625 0.79296875 0.84765625]\n",
      "   [0.8984375  0.87890625 0.90234375]]\n",
      "\n",
      "  [[0.9453125  0.93359375 0.93359375]\n",
      "   [0.94140625 0.93359375 0.94140625]\n",
      "   [0.9375     0.94140625 0.93359375]\n",
      "   ...\n",
      "   [0.9375     0.9375     0.94140625]\n",
      "   [0.90234375 0.8515625  0.890625  ]\n",
      "   [0.91796875 0.85546875 0.87890625]]\n",
      "\n",
      "  [[0.93359375 0.9296875  0.94140625]\n",
      "   [0.9375     0.93359375 0.9375    ]\n",
      "   [0.94140625 0.93359375 0.93359375]\n",
      "   ...\n",
      "   [0.9296875  0.91796875 0.93359375]\n",
      "   [0.87109375 0.79296875 0.83984375]\n",
      "   [0.8984375  0.828125   0.88671875]]\n",
      "\n",
      "  ...\n",
      "\n",
      "  [[0.9453125  0.92578125 0.9296875 ]\n",
      "   [0.90234375 0.80859375 0.859375  ]\n",
      "   [0.9140625  0.875      0.8984375 ]\n",
      "   ...\n",
      "   [0.84765625 0.6328125  0.72265625]\n",
      "   [0.80078125 0.578125   0.68359375]\n",
      "   [0.7109375  0.515625   0.6484375 ]]\n",
      "\n",
      "  [[0.86328125 0.71875    0.796875  ]\n",
      "   [0.91015625 0.81640625 0.87890625]\n",
      "   [0.921875   0.8359375  0.8671875 ]\n",
      "   ...\n",
      "   [0.875      0.76171875 0.8125    ]\n",
      "   [0.8671875  0.73046875 0.78515625]\n",
      "   [0.90625    0.77734375 0.83203125]]\n",
      "\n",
      "  [[0.85546875 0.6484375  0.74609375]\n",
      "   [0.8671875  0.72265625 0.796875  ]\n",
      "   [0.8515625  0.65234375 0.765625  ]\n",
      "   ...\n",
      "   [0.92578125 0.89453125 0.90625   ]\n",
      "   [0.9296875  0.8828125  0.89453125]\n",
      "   [0.890625   0.83203125 0.87109375]]]\n",
      "\n",
      "\n",
      " [[[0.90234375 0.66796875 0.7265625 ]\n",
      "   [0.84765625 0.50390625 0.61328125]\n",
      "   [0.88671875 0.546875   0.65234375]\n",
      "   ...\n",
      "   [0.6484375  0.3515625  0.5234375 ]\n",
      "   [0.75390625 0.4609375  0.5859375 ]\n",
      "   [0.79296875 0.46484375 0.59375   ]]\n",
      "\n",
      "  [[0.89453125 0.59765625 0.69140625]\n",
      "   [0.87890625 0.5703125  0.66015625]\n",
      "   [0.85546875 0.51171875 0.61328125]\n",
      "   ...\n",
      "   [0.75       0.453125   0.5625    ]\n",
      "   [0.78125    0.44140625 0.59765625]\n",
      "   [0.80078125 0.53515625 0.6484375 ]]\n",
      "\n",
      "  [[0.84765625 0.55859375 0.65234375]\n",
      "   [0.890625   0.6328125  0.71875   ]\n",
      "   [0.875      0.546875   0.64453125]\n",
      "   ...\n",
      "   [0.84375    0.55078125 0.6640625 ]\n",
      "   [0.80078125 0.44921875 0.56640625]\n",
      "   [0.8125     0.58203125 0.70703125]]\n",
      "\n",
      "  ...\n",
      "\n",
      "  [[0.8828125  0.60546875 0.671875  ]\n",
      "   [0.86328125 0.578125   0.67578125]\n",
      "   [0.83984375 0.61328125 0.71875   ]\n",
      "   ...\n",
      "   [0.89453125 0.6796875  0.765625  ]\n",
      "   [0.85546875 0.609375   0.69921875]\n",
      "   [0.8359375  0.5234375  0.62109375]]\n",
      "\n",
      "  [[0.88671875 0.57421875 0.671875  ]\n",
      "   [0.8671875  0.54296875 0.65234375]\n",
      "   [0.8359375  0.5625     0.6796875 ]\n",
      "   ...\n",
      "   [0.875      0.6796875  0.75      ]\n",
      "   [0.8515625  0.65625    0.7421875 ]\n",
      "   [0.8203125  0.56640625 0.66796875]]\n",
      "\n",
      "  [[0.82421875 0.55859375 0.66015625]\n",
      "   [0.8515625  0.55078125 0.6484375 ]\n",
      "   [0.83984375 0.52734375 0.65234375]\n",
      "   ...\n",
      "   [0.8671875  0.59375    0.68359375]\n",
      "   [0.828125   0.52734375 0.63671875]\n",
      "   [0.8984375  0.7578125  0.8046875 ]]]\n",
      "\n",
      "\n",
      " [[[0.9453125  0.9296875  0.94140625]\n",
      "   [0.94921875 0.93359375 0.9296875 ]\n",
      "   [0.95703125 0.921875   0.9296875 ]\n",
      "   ...\n",
      "   [0.890625   0.515625   0.63671875]\n",
      "   [0.8828125  0.51171875 0.640625  ]\n",
      "   [0.90625    0.578125   0.68359375]]\n",
      "\n",
      "  [[0.9375     0.91015625 0.9140625 ]\n",
      "   [0.9375     0.90234375 0.91796875]\n",
      "   [0.9375     0.921875   0.94140625]\n",
      "   ...\n",
      "   [0.86328125 0.5234375  0.65234375]\n",
      "   [0.890625   0.53125    0.6484375 ]\n",
      "   [0.8671875  0.5234375  0.6328125 ]]\n",
      "\n",
      "  [[0.94921875 0.92578125 0.94140625]\n",
      "   [0.94140625 0.90625    0.9140625 ]\n",
      "   [0.953125   0.9296875  0.9296875 ]\n",
      "   ...\n",
      "   [0.8984375  0.52734375 0.6328125 ]\n",
      "   [0.89453125 0.54296875 0.66015625]\n",
      "   [0.90234375 0.56640625 0.68359375]]\n",
      "\n",
      "  ...\n",
      "\n",
      "  [[0.94140625 0.921875   0.93359375]\n",
      "   [0.9375     0.9296875  0.93359375]\n",
      "   [0.9140625  0.85546875 0.87890625]\n",
      "   ...\n",
      "   [0.953125   0.93359375 0.9375    ]\n",
      "   [0.8984375  0.76171875 0.80859375]\n",
      "   [0.9453125  0.90234375 0.92578125]]\n",
      "\n",
      "  [[0.9296875  0.921875   0.92578125]\n",
      "   [0.9375     0.921875   0.9296875 ]\n",
      "   [0.94140625 0.9296875  0.9375    ]\n",
      "   ...\n",
      "   [0.94921875 0.921875   0.9296875 ]\n",
      "   [0.94921875 0.9296875  0.93359375]\n",
      "   [0.875      0.734375   0.7890625 ]]\n",
      "\n",
      "  [[0.9296875  0.921875   0.9296875 ]\n",
      "   [0.9375     0.9140625  0.921875  ]\n",
      "   [0.94140625 0.92578125 0.9296875 ]\n",
      "   ...\n",
      "   [0.921875   0.83984375 0.875     ]\n",
      "   [0.9453125  0.88671875 0.91015625]\n",
      "   [0.953125   0.89453125 0.91015625]]]]\n"
     ]
    }
   ],
   "source": [
    "#printing the data to show that it's now 0-1\n",
    "print(x_train[:3])"
   ]
  },
  {
   "cell_type": "code",
   "execution_count": 101,
   "metadata": {},
   "outputs": [
    {
     "name": "stdout",
     "output_type": "stream",
     "text": [
      "x_train shape:  (4437, 7500)\n",
      "x_test shape:  (1110, 7500)\n"
     ]
    }
   ],
   "source": [
    "# reshape data\n",
    "\n",
    "x_train_r = x_train.reshape(x_train.shape[0], x_train.shape[1]*x_train.shape[2]*x_train.shape[3])\n",
    "x_test_r = x_test.reshape(x_test.shape[0], x_test.shape[1]*x_test.shape[2]*x_test.shape[3])\n",
    "\n",
    "print(\"x_train shape: \",x_train_r.shape)\n",
    "print(\"x_test shape: \",x_test_r.shape)"
   ]
  },
  {
   "cell_type": "code",
   "execution_count": 105,
   "metadata": {},
   "outputs": [],
   "source": [
    "def buildclassifier():\n",
    "    classifier = Sequential() # initialize neural network\n",
    "    classifier.add(Dense(units = 8, kernel_initializer = 'uniform', activation = 'relu', input_dim = x_train_r.shape[1]))\n",
    "    classifier.add(Dense(units = 8, kernel_initializer = 'uniform', activation = 'relu'))\n",
    "    classifier.add(Dense(units = 1, kernel_initializer = 'uniform', activation = 'sigmoid'))\n",
    "    classifier.compile(optimizer = 'adam', loss = 'binary_crossentropy', metrics = ['accuracy'])\n",
    "    return classifer"
   ]
  },
  {
   "cell_type": "code",
   "execution_count": 106,
   "metadata": {},
   "outputs": [
    {
     "ename": "NameError",
     "evalue": "name 'KerasClassifier' is not defined",
     "output_type": "error",
     "traceback": [
      "\u001b[1;31m-------------------------------------------------------\u001b[0m",
      "\u001b[1;31mNameError\u001b[0m             Traceback (most recent call last)",
      "Cell \u001b[1;32mIn[106], line 1\u001b[0m\n\u001b[1;32m----> 1\u001b[0m classifier \u001b[38;5;241m=\u001b[39m \u001b[43mKerasClassifier\u001b[49m(build_fn \u001b[38;5;241m=\u001b[39m buildclassifier, epochs \u001b[38;5;241m=\u001b[39m \u001b[38;5;241m200\u001b[39m)\n\u001b[0;32m      2\u001b[0m accuracies \u001b[38;5;241m=\u001b[39m cross_val_score(estimator \u001b[38;5;241m=\u001b[39m classifier, x \u001b[38;5;241m=\u001b[39m x_train_r, y \u001b[38;5;241m=\u001b[39m y_train_r, cv \u001b[38;5;241m=\u001b[39m \u001b[38;5;241m6\u001b[39m)\n\u001b[0;32m      3\u001b[0m mean \u001b[38;5;241m=\u001b[39m accuracies\u001b[38;5;241m.\u001b[39mmean()\n",
      "\u001b[1;31mNameError\u001b[0m: name 'KerasClassifier' is not defined"
     ]
    }
   ],
   "source": [
    "classifier = KerasClassifier(build_fn = buildclassifier, epochs = 200)\n",
    "accuracies = cross_val_score(estimator = classifier, x = x_train_r, y = y_train_r, cv = 6)\n",
    "mean = accuracies.mean()\n",
    "variance = accuracies.std()\n",
    "print(\"Accuracy mean: \"+ str(mean))\n",
    "print(\"Accuracy variance: \"+ str(variance))"
   ]
  },
  {
   "cell_type": "code",
   "execution_count": null,
   "metadata": {},
   "outputs": [],
   "source": []
  },
  {
   "cell_type": "code",
   "execution_count": null,
   "metadata": {},
   "outputs": [],
   "source": []
  },
  {
   "cell_type": "code",
   "execution_count": null,
   "metadata": {},
   "outputs": [],
   "source": []
  },
  {
   "cell_type": "code",
   "execution_count": null,
   "metadata": {},
   "outputs": [],
   "source": []
  },
  {
   "cell_type": "code",
   "execution_count": null,
   "metadata": {},
   "outputs": [],
   "source": []
  },
  {
   "cell_type": "code",
   "execution_count": null,
   "metadata": {},
   "outputs": [],
   "source": []
  },
  {
   "cell_type": "code",
   "execution_count": null,
   "metadata": {},
   "outputs": [],
   "source": []
  },
  {
   "cell_type": "code",
   "execution_count": null,
   "metadata": {},
   "outputs": [],
   "source": [
    "model.add(Conv2D(32, kernel_size=(3, 3),activation='relu',input_shape=(28,28,1)))\n",
    "model.add(Conv2D(64, (3, 3), activation='relu'))\n",
    "model.add(MaxPooling2D(pool_size=(2, 2)))\n",
    "model.add(Dropout(0.25))\n",
    "model.add(Flatten())\n",
    "model.add(Dense(128, activation='relu'))\n",
    "model.add(Dropout(0.5))\n",
    "model.add(Dense(10, activation='softmax'))"
   ]
  },
  {
   "cell_type": "code",
   "execution_count": 90,
   "metadata": {},
   "outputs": [],
   "source": [
    "model.compile(loss='categorical_crossentropy',optimizer='Adam',metrics=['accuracy'])"
   ]
  },
  {
   "cell_type": "code",
   "execution_count": 92,
   "metadata": {},
   "outputs": [
    {
     "name": "stdout",
     "output_type": "stream",
     "text": [
      "Epoch 1/10\n"
     ]
    },
    {
     "ename": "ValueError",
     "evalue": "in user code:\n\n    File \"C:\\Users\\brean\\AppData\\Local\\Programs\\Python\\Python39\\lib\\site-packages\\keras\\src\\engine\\training.py\", line 1338, in train_function  *\n        return step_function(self, iterator)\n    File \"C:\\Users\\brean\\AppData\\Local\\Programs\\Python\\Python39\\lib\\site-packages\\keras\\src\\engine\\training.py\", line 1322, in step_function  **\n        outputs = model.distribute_strategy.run(run_step, args=(data,))\n    File \"C:\\Users\\brean\\AppData\\Local\\Programs\\Python\\Python39\\lib\\site-packages\\keras\\src\\engine\\training.py\", line 1303, in run_step  **\n        outputs = model.train_step(data)\n    File \"C:\\Users\\brean\\AppData\\Local\\Programs\\Python\\Python39\\lib\\site-packages\\keras\\src\\engine\\training.py\", line 1080, in train_step\n        y_pred = self(x, training=True)\n    File \"C:\\Users\\brean\\AppData\\Local\\Programs\\Python\\Python39\\lib\\site-packages\\keras\\src\\utils\\traceback_utils.py\", line 70, in error_handler\n        raise e.with_traceback(filtered_tb) from None\n    File \"C:\\Users\\brean\\AppData\\Local\\Programs\\Python\\Python39\\lib\\site-packages\\keras\\src\\engine\\input_spec.py\", line 298, in assert_input_compatibility\n        raise ValueError(\n\n    ValueError: Input 0 of layer \"sequential_3\" is incompatible with the layer: expected shape=(None, 28, 28, 1), found shape=(None, 50, 50, 3)\n",
     "output_type": "error",
     "traceback": [
      "\u001b[1;31m-------------------------------------------------------\u001b[0m",
      "\u001b[1;31mValueError\u001b[0m            Traceback (most recent call last)",
      "Cell \u001b[1;32mIn[92], line 1\u001b[0m\n\u001b[1;32m----> 1\u001b[0m \u001b[43mmodel\u001b[49m\u001b[38;5;241;43m.\u001b[39;49m\u001b[43mfit\u001b[49m\u001b[43m(\u001b[49m\u001b[43mx_train\u001b[49m\u001b[43m,\u001b[49m\u001b[43m \u001b[49m\u001b[43my_train\u001b[49m\u001b[43m,\u001b[49m\u001b[43m \u001b[49m\u001b[43mepochs\u001b[49m\u001b[38;5;241;43m=\u001b[39;49m\u001b[38;5;241;43m10\u001b[39;49m\u001b[43m,\u001b[49m\u001b[43m \u001b[49m\u001b[43mvalidation_data\u001b[49m\u001b[38;5;241;43m=\u001b[39;49m\u001b[43m(\u001b[49m\u001b[43mx_test\u001b[49m\u001b[43m,\u001b[49m\u001b[43m \u001b[49m\u001b[43my_test\u001b[49m\u001b[43m)\u001b[49m\u001b[43m)\u001b[49m\n",
      "File \u001b[1;32m~\\AppData\\Local\\Programs\\Python\\Python39\\lib\\site-packages\\keras\\src\\utils\\traceback_utils.py:70\u001b[0m, in \u001b[0;36mfilter_traceback.<locals>.error_handler\u001b[1;34m(*args, **kwargs)\u001b[0m\n\u001b[0;32m     67\u001b[0m     filtered_tb \u001b[38;5;241m=\u001b[39m _process_traceback_frames(e\u001b[38;5;241m.\u001b[39m__traceback__)\n\u001b[0;32m     68\u001b[0m     \u001b[38;5;66;03m# To get the full stack trace, call:\u001b[39;00m\n\u001b[0;32m     69\u001b[0m     \u001b[38;5;66;03m# `tf.debugging.disable_traceback_filtering()`\u001b[39;00m\n\u001b[1;32m---> 70\u001b[0m     \u001b[38;5;28;01mraise\u001b[39;00m e\u001b[38;5;241m.\u001b[39mwith_traceback(filtered_tb) \u001b[38;5;28;01mfrom\u001b[39;00m \u001b[38;5;28mNone\u001b[39m\n\u001b[0;32m     71\u001b[0m \u001b[38;5;28;01mfinally\u001b[39;00m:\n\u001b[0;32m     72\u001b[0m     \u001b[38;5;28;01mdel\u001b[39;00m filtered_tb\n",
      "File \u001b[1;32m~\\AppData\\Local\\Temp\\__autograph_generated_filevb2trh43.py:15\u001b[0m, in \u001b[0;36mouter_factory.<locals>.inner_factory.<locals>.tf__train_function\u001b[1;34m(iterator)\u001b[0m\n\u001b[0;32m     13\u001b[0m \u001b[38;5;28;01mtry\u001b[39;00m:\n\u001b[0;32m     14\u001b[0m     do_return \u001b[38;5;241m=\u001b[39m \u001b[38;5;28;01mTrue\u001b[39;00m\n\u001b[1;32m---> 15\u001b[0m     retval_ \u001b[38;5;241m=\u001b[39m ag__\u001b[38;5;241m.\u001b[39mconverted_call(ag__\u001b[38;5;241m.\u001b[39mld(step_function), (ag__\u001b[38;5;241m.\u001b[39mld(\u001b[38;5;28mself\u001b[39m), ag__\u001b[38;5;241m.\u001b[39mld(iterator)), \u001b[38;5;28;01mNone\u001b[39;00m, fscope)\n\u001b[0;32m     16\u001b[0m \u001b[38;5;28;01mexcept\u001b[39;00m:\n\u001b[0;32m     17\u001b[0m     do_return \u001b[38;5;241m=\u001b[39m \u001b[38;5;28;01mFalse\u001b[39;00m\n",
      "\u001b[1;31mValueError\u001b[0m: in user code:\n\n    File \"C:\\Users\\brean\\AppData\\Local\\Programs\\Python\\Python39\\lib\\site-packages\\keras\\src\\engine\\training.py\", line 1338, in train_function  *\n        return step_function(self, iterator)\n    File \"C:\\Users\\brean\\AppData\\Local\\Programs\\Python\\Python39\\lib\\site-packages\\keras\\src\\engine\\training.py\", line 1322, in step_function  **\n        outputs = model.distribute_strategy.run(run_step, args=(data,))\n    File \"C:\\Users\\brean\\AppData\\Local\\Programs\\Python\\Python39\\lib\\site-packages\\keras\\src\\engine\\training.py\", line 1303, in run_step  **\n        outputs = model.train_step(data)\n    File \"C:\\Users\\brean\\AppData\\Local\\Programs\\Python\\Python39\\lib\\site-packages\\keras\\src\\engine\\training.py\", line 1080, in train_step\n        y_pred = self(x, training=True)\n    File \"C:\\Users\\brean\\AppData\\Local\\Programs\\Python\\Python39\\lib\\site-packages\\keras\\src\\utils\\traceback_utils.py\", line 70, in error_handler\n        raise e.with_traceback(filtered_tb) from None\n    File \"C:\\Users\\brean\\AppData\\Local\\Programs\\Python\\Python39\\lib\\site-packages\\keras\\src\\engine\\input_spec.py\", line 298, in assert_input_compatibility\n        raise ValueError(\n\n    ValueError: Input 0 of layer \"sequential_3\" is incompatible with the layer: expected shape=(None, 28, 28, 1), found shape=(None, 50, 50, 3)\n"
     ]
    }
   ],
   "source": [
    "model.fit(x_train, y_train, epochs=10, validation_data=(x_test, y_test))"
   ]
  },
  {
   "cell_type": "code",
   "execution_count": null,
   "metadata": {},
   "outputs": [],
   "source": []
  },
  {
   "cell_type": "code",
   "execution_count": null,
   "metadata": {},
   "outputs": [],
   "source": []
  },
  {
   "cell_type": "code",
   "execution_count": null,
   "metadata": {},
   "outputs": [],
   "source": []
  },
  {
   "cell_type": "code",
   "execution_count": null,
   "metadata": {},
   "outputs": [],
   "source": []
  },
  {
   "cell_type": "code",
   "execution_count": null,
   "metadata": {},
   "outputs": [],
   "source": []
  },
  {
   "cell_type": "code",
   "execution_count": null,
   "metadata": {},
   "outputs": [],
   "source": [
    "# Make Data 1D for compatability with standard classifiers\n",
    "\n",
    "X_trainShape = X_train.shape[1]*x_train.shape[2]*x_train.shape[3]\n",
    "X_testShape = X_test.shape[1]*X_test.shape[2]*X_test.shape[3]\n",
    "\n",
    "X_trainFlat = X_train.reshape(X_train.shape[0], X_trainShape)\n",
    "X_testFlat = X_test.reshape(X_test.shape[0], X_testShape)"
   ]
  },
  {
   "cell_type": "code",
   "execution_count": 66,
   "metadata": {},
   "outputs": [
    {
     "ename": "ValueError",
     "evalue": "Data cardinality is ambiguous:\n  x sizes: 4437\n  y sizes: 1110\nMake sure all arrays contain the same number of samples.",
     "output_type": "error",
     "traceback": [
      "\u001b[1;31m-------------------------------------------------------\u001b[0m",
      "\u001b[1;31mValueError\u001b[0m            Traceback (most recent call last)",
      "Cell \u001b[1;32mIn[66], line 2\u001b[0m\n\u001b[0;32m      1\u001b[0m \u001b[38;5;66;03m#train the classifier\u001b[39;00m\n\u001b[1;32m----> 2\u001b[0m \u001b[43mmodel\u001b[49m\u001b[38;5;241;43m.\u001b[39;49m\u001b[43mfit\u001b[49m\u001b[43m(\u001b[49m\u001b[43mx_train\u001b[49m\u001b[43m,\u001b[49m\u001b[43m \u001b[49m\u001b[43mx_test\u001b[49m\u001b[43m,\u001b[49m\u001b[43m \u001b[49m\u001b[43mepochs\u001b[49m\u001b[38;5;241;43m=\u001b[39;49m\u001b[38;5;241;43m5\u001b[39;49m\u001b[43m,\u001b[49m\u001b[43m \u001b[49m\u001b[43mbatch_size\u001b[49m\u001b[38;5;241;43m=\u001b[39;49m\u001b[38;5;241;43m64\u001b[39;49m\u001b[43m)\u001b[49m\n",
      "File \u001b[1;32m~\\AppData\\Local\\Programs\\Python\\Python39\\lib\\site-packages\\keras\\src\\utils\\traceback_utils.py:70\u001b[0m, in \u001b[0;36mfilter_traceback.<locals>.error_handler\u001b[1;34m(*args, **kwargs)\u001b[0m\n\u001b[0;32m     67\u001b[0m     filtered_tb \u001b[38;5;241m=\u001b[39m _process_traceback_frames(e\u001b[38;5;241m.\u001b[39m__traceback__)\n\u001b[0;32m     68\u001b[0m     \u001b[38;5;66;03m# To get the full stack trace, call:\u001b[39;00m\n\u001b[0;32m     69\u001b[0m     \u001b[38;5;66;03m# `tf.debugging.disable_traceback_filtering()`\u001b[39;00m\n\u001b[1;32m---> 70\u001b[0m     \u001b[38;5;28;01mraise\u001b[39;00m e\u001b[38;5;241m.\u001b[39mwith_traceback(filtered_tb) \u001b[38;5;28;01mfrom\u001b[39;00m \u001b[38;5;28mNone\u001b[39m\n\u001b[0;32m     71\u001b[0m \u001b[38;5;28;01mfinally\u001b[39;00m:\n\u001b[0;32m     72\u001b[0m     \u001b[38;5;28;01mdel\u001b[39;00m filtered_tb\n",
      "File \u001b[1;32m~\\AppData\\Local\\Programs\\Python\\Python39\\lib\\site-packages\\keras\\src\\engine\\data_adapter.py:1950\u001b[0m, in \u001b[0;36m_check_data_cardinality\u001b[1;34m(data)\u001b[0m\n\u001b[0;32m   1943\u001b[0m     msg \u001b[38;5;241m+\u001b[39m\u001b[38;5;241m=\u001b[39m \u001b[38;5;124m\"\u001b[39m\u001b[38;5;124m  \u001b[39m\u001b[38;5;132;01m{}\u001b[39;00m\u001b[38;5;124m sizes: \u001b[39m\u001b[38;5;132;01m{}\u001b[39;00m\u001b[38;5;130;01m\\n\u001b[39;00m\u001b[38;5;124m\"\u001b[39m\u001b[38;5;241m.\u001b[39mformat(\n\u001b[0;32m   1944\u001b[0m         label,\n\u001b[0;32m   1945\u001b[0m         \u001b[38;5;124m\"\u001b[39m\u001b[38;5;124m, \u001b[39m\u001b[38;5;124m\"\u001b[39m\u001b[38;5;241m.\u001b[39mjoin(\n\u001b[0;32m   1946\u001b[0m             \u001b[38;5;28mstr\u001b[39m(i\u001b[38;5;241m.\u001b[39mshape[\u001b[38;5;241m0\u001b[39m]) \u001b[38;5;28;01mfor\u001b[39;00m i \u001b[38;5;129;01min\u001b[39;00m tf\u001b[38;5;241m.\u001b[39mnest\u001b[38;5;241m.\u001b[39mflatten(single_data)\n\u001b[0;32m   1947\u001b[0m         ),\n\u001b[0;32m   1948\u001b[0m     )\n\u001b[0;32m   1949\u001b[0m msg \u001b[38;5;241m+\u001b[39m\u001b[38;5;241m=\u001b[39m \u001b[38;5;124m\"\u001b[39m\u001b[38;5;124mMake sure all arrays contain the same number of samples.\u001b[39m\u001b[38;5;124m\"\u001b[39m\n\u001b[1;32m-> 1950\u001b[0m \u001b[38;5;28;01mraise\u001b[39;00m \u001b[38;5;167;01mValueError\u001b[39;00m(msg)\n",
      "\u001b[1;31mValueError\u001b[0m: Data cardinality is ambiguous:\n  x sizes: 4437\n  y sizes: 1110\nMake sure all arrays contain the same number of samples."
     ]
    }
   ],
   "source": [
    "#runLogisticRegression\n",
    "def runLogisticRegression(a,b,c,d):\n",
    "    \"\"\"Run LogisticRegression w/ Kfold CV\"\"\"\n",
    "    model = LogisticRegression()\n",
    "    model.fit(a,b)\n",
    "    kfold = model_selection.KFold(n_splits=10)\n",
    "    accuracy = model_selection.cross_val_score(model, c,d, cv=kfold, scoring='accuracy')\n",
    "    mean = accuracy.mean() \n",
    "    stdev = accuracy.std()\n",
    "    print('LogisticRegression - Training set accuracy: %s (%s)' % (mean, stdev))\n",
    "    print('')\n",
    "runLogisticRegression(x_trainFlat, y_train, x_testFlat, y_test)"
   ]
  },
  {
   "cell_type": "code",
   "execution_count": null,
   "metadata": {},
   "outputs": [],
   "source": []
  }
 ],
 "metadata": {
  "kernelspec": {
   "display_name": "Python 3 (ipykernel)",
   "language": "python",
   "name": "python3"
  },
  "language_info": {
   "codemirror_mode": {
    "name": "ipython",
    "version": 3
   },
   "file_extension": ".py",
   "mimetype": "text/x-python",
   "name": "python",
   "nbconvert_exporter": "python",
   "pygments_lexer": "ipython3",
   "version": "3.9.5"
  }
 },
 "nbformat": 4,
 "nbformat_minor": 2
}
